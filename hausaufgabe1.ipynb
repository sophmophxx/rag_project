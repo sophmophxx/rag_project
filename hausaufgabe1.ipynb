{
 "cells": [
  {
   "cell_type": "code",
   "execution_count": 1,
   "id": "7ae64e77-c7bd-4140-a2be-17ab70f48526",
   "metadata": {},
   "outputs": [
    {
     "name": "stdout",
     "output_type": "stream",
     "text": [
      "Hello world, I am coding in Python!\n"
     ]
    }
   ],
   "source": [
    "print(\"Hello world, I am coding in Python!\")"
   ]
  },
  {
   "cell_type": "code",
   "execution_count": 2,
   "id": "8fd3ee46-1840-446e-b451-e8b471d5ade9",
   "metadata": {},
   "outputs": [],
   "source": [
    "knowledge_base = [\n",
    "    {\"id\": 1, \"text\": \"Ada Lovelace is considered the first computer programmer for her work on Charles Babbage's Analytical Engine.\"},\n",
    "    {\"id\": 2, \"text\": \"Grace Hopper was a pioneer in computer programming and developed the first compiler for a computer programming language.\"},\n",
    "    {\"id\": 3, \"text\": \"Katherine Johnson was a mathematician whose calculations of orbital mechanics were critical to the success of NASA's space missions.\"},\n",
    "    {\"id\": 4, \"text\": \"Radia Perlman is known as the 'Mother of the Internet' for her invention of the spanning-tree protocol (STP) that made modern Ethernet networks possible.\"},\n",
    "    {\"id\": 5, \"text\": \"Barbara Liskov is a computer scientist recognized for her work in programming languages and system design, including the Liskov Substitution Principle.\"}\n",
    "]"
   ]
  },
  {
   "cell_type": "code",
   "execution_count": 3,
   "id": "97cf01ac-7769-49f1-8175-6eaee2ab4333",
   "metadata": {},
   "outputs": [
    {
     "name": "stdout",
     "output_type": "stream",
     "text": [
      "1: Ada Lovelace is considered the first computer programmer for her work on Charles Babbage's Analytical Engine.\n",
      "2: Grace Hopper was a pioneer in computer programming and developed the first compiler for a computer programming language.\n",
      "3: Katherine Johnson was a mathematician whose calculations of orbital mechanics were critical to the success of NASA's space missions.\n",
      "4: Radia Perlman is known as the 'Mother of the Internet' for her invention of the spanning-tree protocol (STP) that made modern Ethernet networks possible.\n",
      "5: Barbara Liskov is a computer scientist recognized for her work in programming languages and system design, including the Liskov Substitution Principle.\n"
     ]
    }
   ],
   "source": [
    "for entry in knowledge_base:\n",
    "    print(f\"{entry['id']}: {entry['text']}\")"
   ]
  }
 ],
 "metadata": {
  "kernelspec": {
   "display_name": "Python 3 (ipykernel)",
   "language": "python",
   "name": "python3"
  },
  "language_info": {
   "codemirror_mode": {
    "name": "ipython",
    "version": 3
   },
   "file_extension": ".py",
   "mimetype": "text/x-python",
   "name": "python",
   "nbconvert_exporter": "python",
   "pygments_lexer": "ipython3",
   "version": "3.12.3"
  }
 },
 "nbformat": 4,
 "nbformat_minor": 5
}

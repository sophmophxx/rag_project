{
 "cells": [
  {
   "cell_type": "markdown",
   "id": "fa01b4e6",
   "metadata": {},
   "source": [
    "### Kleiner Exkurs: Jupyter Notebook\n",
    "\n",
    "<img src=\"../images/jupyter_logo.png\" width=\"200\" height=\"220\">\n",
    "\n",
    "Jupyter Notebook ist ein web-basierte, interaktive Entwicklungsumgebung für das Schreiben von Code, das Erstellen von Visualisierungen und das Einbinden von Text-Elementen mit Hilfe der Auszeichnungssprache Markdown. \n",
    "\n",
    "In einem Notebook lassen sich schnell kleine und größere Code-Blöcke entwickeln und direkt ausführen. \n",
    "\n",
    "Im Rahmen der ersten Hausaufgabe haben Sie bereits: \n",
    "- den Jupyter Notebook Server gestartet\n",
    "- ein neues Notebook erstellt\n",
    "- Code-Zeilen erstellt und ausgeführt\n",
    "\n",
    "Notebooks erlauben auch das Einfügen von Text mit Markdown-Zellen. \n",
    "\n",
    "Hierfür: \n",
    "- Klicken Sie oben in der Menüleiste auf das Plus-Symbol, um eine neue Zeile einzufügen. \n",
    "- Klicken Sie in die Zeile und wechseln Sie dann über das Dropwon-Menü oben von Zeilentyp von 'Code' auf 'Markdown'.\n",
    "- Fügen Sie etwas Text ein. Formatierungsoptionen sind z.B. eines oder mehrere \\# für Überschriften, \\* für kursiv, \\** für fett, sowie \\`...` für Code-Zeilen und \\```...``` für Code-Blöcke. \n",
    "- Hier finden Sie eine Übersicht der wichtigsten Formatierungsoptionen: [Markdown Guide](https://www.markdownguide.org/basic-syntax/)"
   ]
  },
  {
   "cell_type": "markdown",
   "id": "ceb648b5",
   "metadata": {},
   "source": [
    "\n",
    "# Einführung in Python\n",
    "![Python Logo](../images/python_logo.png \"Python Logo\")\n",
    "\n",
    "Python ist eine Programmiersprache, die 1998 von dem niederländischen Softwareentwickler Guido van Rossum entwickelt wurde: \n",
    "\n",
    "> \"Vor über sechs Jahren, im Dezember 1989, suchte ich nach einem Programmierprojekt, das mich über die Weihnachtswoche beschäftigen würde. \n",
    "Mein Büro würde geschlossen bleiben, aber ich hatte auch zu Hause einen PC und sonst nicht viel zu tun. Ich entschied mich, einen Interpreter für die Skriptsprache zu schreiben, über die ich kürzlich nachdachte: Ein Nachfolger von ABC, der auch Unix- und C-Hacker ansprechen würde. Ich wählte Python als Arbeitstitel für das Projekt, weil ich in einer leicht respektlosen Stimmung (und ein großer Fan des Monty Python’s Flying Circus) war.\"\n",
    "\n",
    "Ziel war es, eine einfach zu erlernende, intuitive Sprache zu entwickeln, die zudem Open Source ist, sodass sich jede*r an ihrer Weiterentwicklung beteiligen kann. \n",
    "\n",
    "`Python` ist heute sehr beliebt als Programmiersprache für wissenschaftliche Zwecke, Data Science, Machine Learning und auch für Natural Language Processing. \n",
    "\n",
    "Es gibt eine Vielzahl an Bibliotheken für `Python`wie z.B. `pandas` für Datenanalyse oder `scikit-learn` für Machine Learning. \n",
    "\n",
    "Eine große Community aus Entwickler\\*innen und Nutzer\\*innen ist rund um `Python` entstanden, darunter auch die \"PyLadies\", die Mentoring für Menschen mit marginalisiertem Gender unterstützt.\n",
    "\n",
    "Es gibt auch eine [PyLadies Berlin Section](https://berlin.pyladies.com/en/).\n",
    "\n",
    "In der heutigen Übungen schauen wir uns wichtige Aspekte von Python an, von Datentypen über Kontrollstrukturen bis hin zu Funktionen und Klassen und natürlich dem Arbeiten mit `Strings`."
   ]
  },
  {
   "cell_type": "markdown",
   "id": "0eff06da",
   "metadata": {},
   "source": [
    "### `pandas` installieren"
   ]
  },
  {
   "cell_type": "markdown",
   "id": "6d315b06",
   "metadata": {},
   "source": [
    "Wenn noch genug Zeit ist, machen wir heute auch erste Schritte mit `pandas`. \n",
    "\n",
    "Um `pandas` nutzen zu können, müssen Sie die Bibliothek zuerst installieren. \n",
    "\n",
    "Im Terminal - innerhalb der aktivierten virtuellen Umgebung - führen Sie folgenden Befehl aus: \n",
    "\n",
    "`pip install pandas`\n",
    "\n",
    "Danach müssen Sie den Kernel Ihres Jupyter Servers neu starten (im Notebook oben auf `Kernel` -> `Restart Kernel` klicken.)"
   ]
  },
  {
   "cell_type": "markdown",
   "id": "a96ae899",
   "metadata": {},
   "source": [
    "## IDEs für Python\n",
    "\n",
    "Python-Skripte lassen sich mit einem einfachen Texteditor schreiben, z.B. `nano` im Terminal oder `Sublime Text`.\n",
    "\n",
    "Zudem können Sie auch über Jupyter Python-Skripte erstellen (`New File` und mit Endung `.py` abspeichern). \n",
    "\n",
    "Für eine möglichst komfortable und effiziente Entwicklung Ihres RAG-Projekts empfehle ich Ihnen jedoch, sich eine geeignete IDE zu installieren, sofern Sie dies nicht ohnehin schon haben. \n",
    "\n",
    "Für `Python` eignen sich z.B. [PyCharm](https://www.jetbrains.com/pycharm/) oder [Visual Studio Code](https://code.visualstudio.com/). Für beide können Sie eine Studierendenlizenz bekommen. \n",
    "\n",
    "Beide IDEs ermöglichen auch die Integration von Jupyter Notebooks, sodass Sie bequem zwischen Coden im Notebook und in Python-Skripten wechseln können. "
   ]
  },
  {
   "cell_type": "markdown",
   "id": "64fa4447",
   "metadata": {},
   "source": [
    "## 1. Variablen\n",
    "\n",
    "Die Erzeugung von Variablen geschieht gleichzeitig mit der Zuweisung eines konkreten Werts. "
   ]
  },
  {
   "cell_type": "code",
   "execution_count": 2,
   "id": "a2197d79",
   "metadata": {},
   "outputs": [
    {
     "name": "stdout",
     "output_type": "stream",
     "text": [
      "Was ist der Sinn des Lebens?\n",
      "Antwort: 42\n"
     ]
    }
   ],
   "source": [
    "x = 42\n",
    "s = \"Was ist der Sinn des Lebens?\"\n",
    "print(s)\n",
    "print(\"Antwort:\", x)"
   ]
  },
  {
   "cell_type": "markdown",
   "id": "0166277a",
   "metadata": {},
   "source": [
    "Variablen muss bei der Erzeugung kein bestimmter Datentyp zugewiesen werden, dies geschieht automatisch durch den zugewiesenen Wert. \n",
    "\n",
    "Der Datentyp einer Variable kann sich nach ihrer Erzeugung auch ändern. "
   ]
  },
  {
   "cell_type": "code",
   "execution_count": 13,
   "id": "49683dcd",
   "metadata": {},
   "outputs": [
    {
     "data": {
      "text/plain": [
       "(int, str)"
      ]
     },
     "execution_count": 13,
     "metadata": {},
     "output_type": "execute_result"
    }
   ],
   "source": [
    "x = 4 # x hat den Datentyp int (integer)\n",
    "s = \"Was ist der Sinn des Lebens?\" # s hat den Datentyp str (String)\n",
    "type(x), type(s) # mit type() können wir uns den Datentyp einer Variable ausgeben lassen"
   ]
  },
  {
   "cell_type": "code",
   "execution_count": 3,
   "id": "40a7a7fa",
   "metadata": {},
   "outputs": [
    {
     "data": {
      "text/plain": [
       "int"
      ]
     },
     "execution_count": 3,
     "metadata": {},
     "output_type": "execute_result"
    }
   ],
   "source": [
    "s = 5 \n",
    "type(s)"
   ]
  },
  {
   "cell_type": "markdown",
   "id": "1537e84b",
   "metadata": {},
   "source": [
    "**1.1. Aufgabe:** Lassen Sie sich den Datentyp von `s` erneut ausgeben. Welchen Datentyp hat die Variable jetzt? \n",
    "\n",
    "**Antwort:** "
   ]
  },
  {
   "cell_type": "markdown",
   "id": "a008212f",
   "metadata": {},
   "source": [
    "## 2. Typecasting\n",
    "Mit Hilfe von Typecasting können wir einen expliziten Datentyp festlegen:"
   ]
  },
  {
   "cell_type": "code",
   "execution_count": 6,
   "id": "5f5884ab",
   "metadata": {},
   "outputs": [],
   "source": [
    "x = str(42)    # x will be '42'\n",
    "y = int(42)    # y will be 42\n",
    "z = float(42)  # z will be 42.0"
   ]
  },
  {
   "cell_type": "markdown",
   "id": "e606f249",
   "metadata": {},
   "source": [
    "**2.1 Aufgabe:** Lassen Sie sich x, y, z mit Hilfe des `print()`-Befehls ausgeben. "
   ]
  },
  {
   "cell_type": "code",
   "execution_count": 1,
   "id": "cdcb61d6",
   "metadata": {},
   "outputs": [],
   "source": [
    "# Ihre Lösung: "
   ]
  },
  {
   "cell_type": "markdown",
   "id": "938f4578",
   "metadata": {},
   "source": [
    "## 3. Datentypen"
   ]
  },
  {
   "cell_type": "markdown",
   "id": "cfca7649",
   "metadata": {},
   "source": [
    "Übersicht von Datentypen, die für uns besonders relevant sind: \n",
    "\n",
    "- Text: `str`\n",
    "- Numeric: `int`, `float`\n",
    "- Sequence: `list`, `tuple`, `set`\n",
    "- Mapping: `dict`\n",
    "- Boolean: `bool`\n",
    "- None: `NoneType`\n",
    "\n",
    "#### Beispiele:"
   ]
  },
  {
   "cell_type": "code",
   "execution_count": 172,
   "id": "0c787941",
   "metadata": {},
   "outputs": [],
   "source": [
    "first_name = \"Elisabeth\" # string\n",
    "age = 39  # int\n",
    "height = 170.0 # float\n",
    "hobbies = ['cycling', 'gardening', 'cooking'] # Liste\n",
    "eye_colors = ('green', 'blue') # Tupel\n",
    "\n",
    "# Dictionary, key-value Paare, keys müssen einzigartig sein\n",
    "profile = {\n",
    "    'id': 1,\n",
    "    'first_name': 'Ada',\n",
    "    'email': 'ada@example.com',\n",
    "    'has_subscribed': True # boolean\n",
    "}\n",
    "\n",
    "colors = {'red', 'blue', 'yellow'} # Set, besteht aus einzigartigen Elementen, nicht veränderbar"
   ]
  },
  {
   "cell_type": "markdown",
   "id": "211f4dac",
   "metadata": {},
   "source": [
    "**3.1 Aufgabe:** Betrachten Sie die folgenden zwei Code-Zeilen. Was geschieht mit den Elementen aus der Liste `fruits` im zweiten Schritt?\n",
    "\n",
    "**Antwort:** "
   ]
  },
  {
   "cell_type": "code",
   "execution_count": null,
   "id": "baaec8f1",
   "metadata": {},
   "outputs": [],
   "source": [
    "fruits = ['apple', 'banana', 'orange', 'raspberry', 'apple', 'lemon']\n",
    "fruits = set(fruits)\n",
    "fruits"
   ]
  },
  {
   "cell_type": "markdown",
   "id": "3e3694a8",
   "metadata": {},
   "source": [
    "**3.2 Aufgabe:** Und was geschieht hier? \n",
    "\n",
    "**Antwort:**"
   ]
  },
  {
   "cell_type": "code",
   "execution_count": null,
   "id": "ad0f3942",
   "metadata": {},
   "outputs": [],
   "source": [
    "fruits = ['apple', 'banana', 1, True, 'apple', 'lemon']\n",
    "fruits = set(fruits)\n",
    "fruits"
   ]
  },
  {
   "cell_type": "markdown",
   "id": "e1e0ac2a",
   "metadata": {},
   "source": [
    "**3.3 Aufgabe:**\n",
    "\n",
    "Erstellen Sie ein `dict` drei Ihrer Lieblingsbücher, -serien oder filme. \n",
    "\n",
    "Die `keys` sollen einstellige Integer-Werte von 1 bis 3 sein, die `values` die Titel als Strings. "
   ]
  },
  {
   "cell_type": "code",
   "execution_count": 2,
   "id": "c39fef74",
   "metadata": {},
   "outputs": [],
   "source": [
    "# Ihre Lösung: "
   ]
  },
  {
   "cell_type": "markdown",
   "id": "101e9299",
   "metadata": {},
   "source": [
    "## 4. `print()` + f-Strings\n",
    "\n",
    "Die `print()`-Funktion haben Sie bereits kennengelernt. \n",
    "\n",
    "Mit f-Strings können Sie Variablen in print-Ausgaben integrieren und diese formatieren:"
   ]
  },
  {
   "cell_type": "code",
   "execution_count": 180,
   "id": "540deec6",
   "metadata": {},
   "outputs": [
    {
     "name": "stdout",
     "output_type": "stream",
     "text": [
      "My name is Alice and I'm 42 years old.\n",
      "I believe that  100.00 of people are NICE\n"
     ]
    }
   ],
   "source": [
    "first_name = \"Alice\"\n",
    "age = 42\n",
    "\n",
    "print(f\"My name is {first_name} and I'm {age} years old.\")\n",
    "\n",
    "percentage = 99.999\n",
    "adjective = 'nice'\n",
    "print(f\"I believe that {percentage: .2f} of people are {adjective.upper()}\")"
   ]
  },
  {
   "cell_type": "markdown",
   "id": "f0f58b4f",
   "metadata": {},
   "source": [
    "**4.1 Aufgabe:** \n",
    "\n",
    "Passen Sie den Code aus der vorherigen Zelle so an, dass die Prozentzahl mit 3 Nachkommastellen ausgegeben wird. \n",
    "\n",
    "Wählen Sie außerdem ein anderes Adjektiv, um die Satzbedeutung zu verändern. "
   ]
  },
  {
   "cell_type": "code",
   "execution_count": 3,
   "id": "1a8df004",
   "metadata": {},
   "outputs": [
    {
     "name": "stdout",
     "output_type": "stream",
     "text": [
      "My name is Alice and I'm 42 years old.\n",
      "I believe that  100.00 of people are NICE\n"
     ]
    }
   ],
   "source": [
    "# Ihre Lösung: \n",
    "\n",
    "first_name = \"Alice\"\n",
    "age = 42\n",
    "\n",
    "print(f\"My name is {first_name} and I'm {age} years old.\")\n",
    "\n",
    "percentage = 99.999\n",
    "adjective = 'nice'\n",
    "print(f\"I believe that {percentage: .2f} of people are {adjective.upper()}\")"
   ]
  },
  {
   "cell_type": "markdown",
   "id": "5af71f4d",
   "metadata": {},
   "source": [
    "## 5. Indentation\n",
    "\n",
    "Indentation (Einrückungen) sind ein zentrales Konzept in `Python`.\n",
    "Damit werden Code-Blöcke definiert, ggf. auch durch Mehrfacheinrückungen. \n",
    "\n",
    "Einrückungen werden laut Python-Styleguide mit vier Leerzeichen gesetzt, nicht mit der Tabulator-Taste. \n",
    "\n",
    "**5.1 Aufgabe:**  \n",
    "- Führen Sie den untenstehenden Code aus - was passiert? \n",
    "- Korrigieren Sie den Code, sodass er funktioniert. "
   ]
  },
  {
   "cell_type": "code",
   "execution_count": null,
   "id": "8602b429",
   "metadata": {},
   "outputs": [],
   "source": [
    "gummi_bear_count = 10\n",
    "\n",
    "while gummi_bear_count > 0: \n",
    "print(f\"{gummi_bear_count} gummi bears left.\")\n",
    "print(\"Eating a gummi bear...\")\n",
    "gummi_bear_count -= 1\n",
    "print(\"Oh no! No more gummi bears left :(\")"
   ]
  },
  {
   "cell_type": "markdown",
   "id": "20ce2543",
   "metadata": {},
   "source": [
    "## 6. Operatoren\n",
    "\n",
    "### Arithmetische Operatoren"
   ]
  },
  {
   "cell_type": "code",
   "execution_count": 53,
   "id": "054099b0",
   "metadata": {},
   "outputs": [
    {
     "data": {
      "text/plain": [
       "49"
      ]
     },
     "execution_count": 53,
     "metadata": {},
     "output_type": "execute_result"
    }
   ],
   "source": [
    "5 + 3 # Addition\n",
    "5 - 3 # Subtraktion\n",
    "5 * 3 # Multiplikation\n",
    "15 / 3 # Division\n",
    "100 % 2 # Modulus = Rest aus Division\n",
    "10 ** 2 # Potenzieren\n",
    "99 // 2 # Ganzzahlige Division"
   ]
  },
  {
   "cell_type": "markdown",
   "id": "baa05cda",
   "metadata": {},
   "source": [
    "### Zuweisungsoperatoren"
   ]
  },
  {
   "cell_type": "code",
   "execution_count": null,
   "id": "ca453296",
   "metadata": {},
   "outputs": [],
   "source": [
    "x = 3\n",
    "x += 3 # das Gleiche wie x = x + 3\n",
    "x -= 3 # das Gleiche wie x = x - 3\n",
    "# Funnktioniert auch mit den anderen arithmetischen Operatoren, z.B. x %= 2 usw. "
   ]
  },
  {
   "cell_type": "markdown",
   "id": "a86b2f90",
   "metadata": {},
   "source": [
    "**6.1 Aufgabe:**\n",
    "- Erzeugen Sie eine Variable `word1` mit dem Wert 'Joseph'. \n",
    "- Nutzen Sie einen geeigneten Zuweisungsoperator, um den Wert der Variable in 'Joseph Weizenbaum' zu ändern. \n",
    "- Kontrollieren Sie das Ergebnis mit der `print()`-Funktion."
   ]
  },
  {
   "cell_type": "code",
   "execution_count": 184,
   "id": "bf254ba9",
   "metadata": {},
   "outputs": [],
   "source": [
    "# Ihre Lösung:"
   ]
  },
  {
   "cell_type": "markdown",
   "id": "6767672c",
   "metadata": {},
   "source": [
    "### Vergleichsoperatoren"
   ]
  },
  {
   "cell_type": "code",
   "execution_count": null,
   "id": "efa4f965",
   "metadata": {},
   "outputs": [
    {
     "data": {
      "text/plain": [
       "False"
      ]
     },
     "execution_count": 57,
     "metadata": {},
     "output_type": "execute_result"
    }
   ],
   "source": [
    "x = 1\n",
    "x = 1000\n",
    "\n",
    "x == y # gleich\n",
    "x != y # nicht gleich\n",
    "x > y # größer als\n",
    "x < y # kleiner als \n",
    "x >= y # größer-gleich\n",
    "x <= y # kleiner-gleich"
   ]
  },
  {
   "cell_type": "markdown",
   "id": "07ec8ecb",
   "metadata": {},
   "source": [
    "### Logische Operatoren"
   ]
  },
  {
   "cell_type": "code",
   "execution_count": 185,
   "id": "76542934",
   "metadata": {},
   "outputs": [
    {
     "data": {
      "text/plain": [
       "False"
      ]
     },
     "execution_count": 185,
     "metadata": {},
     "output_type": "execute_result"
    }
   ],
   "source": [
    "x < 5 and x < 10 # True falls beide Statements True ergeben\n",
    "x < 5 or x < 4 # True falls eines der beiden Statements True ist\n",
    "not(x < 5 and x < 10) # Umkehrung des Ergebnisses, gibt False zurück wenn das Ergebnis True ist"
   ]
  },
  {
   "cell_type": "markdown",
   "id": "d1947e54",
   "metadata": {},
   "source": [
    "### Zugehörigkeitsoperatoren\n",
    "Zum überprüfen, ob eine Sequenz in einem Objekt enthalten ist.\n"
   ]
  },
  {
   "cell_type": "code",
   "execution_count": null,
   "id": "a62725c8",
   "metadata": {},
   "outputs": [
    {
     "name": "stdout",
     "output_type": "stream",
     "text": [
      "True\n"
     ]
    }
   ],
   "source": [
    "pets = ['cat', 'dog', 'pony']\n",
    "x = 'dog'\n",
    "y = 'sloth'\n",
    "print(x in pets)"
   ]
  },
  {
   "cell_type": "markdown",
   "id": "b29281c4",
   "metadata": {},
   "source": [
    "**6.2 Aufgabe:** Schreiben Sie einen Ausdruck, der zurückgibt, ob sich die Variable `y` nicht in der Liste `pets` befindet. "
   ]
  },
  {
   "cell_type": "code",
   "execution_count": 187,
   "id": "8d976418",
   "metadata": {},
   "outputs": [],
   "source": [
    "# Ihre Lösung:"
   ]
  },
  {
   "cell_type": "markdown",
   "id": "0225b015",
   "metadata": {},
   "source": [
    "### Reihenfolge, Klammersetzung"
   ]
  },
  {
   "cell_type": "code",
   "execution_count": 64,
   "id": "a23e6257",
   "metadata": {},
   "outputs": [
    {
     "data": {
      "text/plain": [
       "0"
      ]
     },
     "execution_count": 64,
     "metadata": {},
     "output_type": "execute_result"
    }
   ],
   "source": [
    "(1 - 1) + (10  - 10) # Ausdrücke in Klammern werden zuerst ausgewertet"
   ]
  },
  {
   "cell_type": "code",
   "execution_count": 68,
   "id": "c904320d",
   "metadata": {},
   "outputs": [
    {
     "data": {
      "text/plain": [
       "-47"
      ]
     },
     "execution_count": 68,
     "metadata": {},
     "output_type": "execute_result"
    }
   ],
   "source": [
    "3 - 10 * 5 # Multiplikation wird vor Subtraktion ausgeführt"
   ]
  },
  {
   "cell_type": "markdown",
   "id": "cdd1c8b9",
   "metadata": {},
   "source": [
    "**6.3 Aufgabe**: Verändern Sie die vorherige Zeile so, dass zuerst die Subtraktion ausgeführt wird, dann die Multiplikation."
   ]
  },
  {
   "cell_type": "markdown",
   "id": "52ad0ca0",
   "metadata": {},
   "source": [
    "## 7. Kontrollstrukturen"
   ]
  },
  {
   "cell_type": "markdown",
   "id": "581f6e1c",
   "metadata": {},
   "source": [
    "### Bedingte Anweisungen: `if`, `elif`, `else`"
   ]
  },
  {
   "cell_type": "code",
   "execution_count": 188,
   "id": "4e8a9b14",
   "metadata": {},
   "outputs": [
    {
     "name": "stdout",
     "output_type": "stream",
     "text": [
      "Don't forget to take your umbrella!\n"
     ]
    }
   ],
   "source": [
    "is_raining = True\n",
    "is_sunny = False\n",
    "\n",
    "if is_raining: \n",
    "    print(\"Don't forget to take your umbrella!\")\n",
    "elif is_sunny:\n",
    "    print(\"Don't forget to take your sun glasses!\")\n",
    "else: \n",
    "    print(\"Have a nice day!\")"
   ]
  },
  {
   "cell_type": "markdown",
   "id": "3c8de1b8",
   "metadata": {},
   "source": [
    "**7.1 Aufgabe:** \n",
    "- Fügen Sie dem obigen Code eine weitere Boolesche Variable für wechselhaftes Wetter hinzu. \n",
    "- Passen Sie den Code so an, dass er für den Fall von wechselhaftem Wetter ebenfalls eine passende Aufforderung ausgibt. "
   ]
  },
  {
   "cell_type": "markdown",
   "id": "a0429e39",
   "metadata": {},
   "source": [
    "## 8. Schleifen\n",
    "\n",
    "#### `for`-Schleifen"
   ]
  },
  {
   "cell_type": "code",
   "execution_count": 70,
   "id": "c726a00d",
   "metadata": {},
   "outputs": [
    {
     "name": "stdout",
     "output_type": "stream",
     "text": [
      "the\n",
      "brown\n",
      "fox\n",
      "jumps\n",
      "over\n",
      "the\n",
      "lazy\n",
      "dog\n"
     ]
    }
   ],
   "source": [
    "for word in ['the', 'brown', 'fox', 'jumps', 'over', 'the', 'lazy', 'dog']:\n",
    "    print(word)"
   ]
  },
  {
   "cell_type": "markdown",
   "id": "355bbbfb",
   "metadata": {},
   "source": [
    "#### `for`-Schleife in Kombination mit `range()`"
   ]
  },
  {
   "cell_type": "code",
   "execution_count": 189,
   "id": "463ef904",
   "metadata": {},
   "outputs": [
    {
     "name": "stdout",
     "output_type": "stream",
     "text": [
      "0\n",
      "1\n",
      "2\n",
      "3\n"
     ]
    }
   ],
   "source": [
    "# Beachten Sie: Der obere Wert wird exkludiert. \n",
    "for x in range(4): \n",
    "    print(x)"
   ]
  },
  {
   "cell_type": "markdown",
   "id": "04abd967",
   "metadata": {},
   "source": [
    "#### Iterieren über die `key-value` Paare eines Dictionaries"
   ]
  },
  {
   "cell_type": "code",
   "execution_count": 73,
   "id": "3e4a4629",
   "metadata": {},
   "outputs": [
    {
     "name": "stdout",
     "output_type": "stream",
     "text": [
      "1 blue\n",
      "2 red\n",
      "3 yellow\n"
     ]
    }
   ],
   "source": [
    "colors = {\n",
    "    1: 'blue',\n",
    "    2: 'red',\n",
    "    3: 'yellow'\n",
    "}\n",
    "\n",
    "for key, value in colors.items():\n",
    "    print(key, value)"
   ]
  },
  {
   "cell_type": "markdown",
   "id": "7404d127",
   "metadata": {},
   "source": [
    "### List comprehension"
   ]
  },
  {
   "cell_type": "code",
   "execution_count": 191,
   "id": "a279b025",
   "metadata": {},
   "outputs": [
    {
     "name": "stdout",
     "output_type": "stream",
     "text": [
      "['f', 'o', 'x']\n"
     ]
    }
   ],
   "source": [
    "# Ermöglicht kurze, elegante Syntax für Iteration über eine Liste\n",
    "characters = ['f', 'o', 'x']\n",
    "print([c for c in characters])"
   ]
  },
  {
   "cell_type": "markdown",
   "id": "a36fbee7",
   "metadata": {},
   "source": [
    "#### `while`-Schleifen"
   ]
  },
  {
   "cell_type": "code",
   "execution_count": 192,
   "id": "eca9b195",
   "metadata": {},
   "outputs": [
    {
     "name": "stdout",
     "output_type": "stream",
     "text": [
      "0\n",
      "1\n",
      "2\n",
      "3\n",
      "4\n"
     ]
    }
   ],
   "source": [
    "i = 0\n",
    "\n",
    "while i < 5:\n",
    "    print(i)\n",
    "    i += 1"
   ]
  },
  {
   "cell_type": "markdown",
   "id": "df93f288",
   "metadata": {},
   "source": [
    "## 9. Funktionen\n",
    "Funktionen werden in `Python`mit dem Schlüsselwort `def` definiert, gefolgt vom Namen der Funktion mit Klammern `()` und einem Doppelpunkt `:`"
   ]
  },
  {
   "cell_type": "code",
   "execution_count": 4,
   "id": "268b66df",
   "metadata": {},
   "outputs": [],
   "source": [
    "def get_char_count(s):\n",
    "    \"\"\"\n",
    "    Print and return how many characters string 's' has.\n",
    "    \"\"\"\n",
    "    char_count = len(s) # Wir nutzen hier die bereits existierende Funktion len()\n",
    "    print(f\"String '{s}' has {char_count} characters.\")\n",
    "    return char_count"
   ]
  },
  {
   "cell_type": "markdown",
   "id": "6656fa52",
   "metadata": {},
   "source": [
    "Funktionen können mit Hilfe des `return` Schlüsselworts Werte zurückgeben, die wir Variablen zuweisen können, um dann damit weiter zu arbeiten."
   ]
  },
  {
   "cell_type": "code",
   "execution_count": 7,
   "id": "261696d6",
   "metadata": {},
   "outputs": [
    {
     "name": "stdout",
     "output_type": "stream",
     "text": [
      "String 'fox' has 3 characters.\n"
     ]
    },
    {
     "data": {
      "text/plain": [
       "3"
      ]
     },
     "execution_count": 7,
     "metadata": {},
     "output_type": "execute_result"
    }
   ],
   "source": [
    "# Hier wird der Variable c_count der Wert zurückgegeben, die die Funktion char_count() für den Eingabewert 'fox' zurückgibt. \n",
    "c_count = get_char_count(\"fox\")\n",
    "c_count"
   ]
  },
  {
   "cell_type": "markdown",
   "id": "df3476b6",
   "metadata": {},
   "source": [
    "### Default-Argumente in Funktionen\n",
    "Mit Hilfe von Default-Argumenten können wir Standard-Werte für bestimmte Parameter festlegen. \n",
    "\n",
    "Beim Aufruf der Funktion muss dieser Wert nicht übergeben werden. \n",
    "\n",
    "Wir können ihn aber durch explizite Zuweisung überschreiben. "
   ]
  },
  {
   "cell_type": "code",
   "execution_count": null,
   "id": "af3ee5aa",
   "metadata": {},
   "outputs": [],
   "source": [
    "def calculate_total(item_prices, discount=False, discount_rate=0.2):\n",
    "    \"\"\"\n",
    "    Calculate total of order purchases, apply discount if applicable.\n",
    "    \"\"\"\n",
    "    # Hier nutzen wir die bereits existierende Funktion sum(), um alle Preise zu addieren\n",
    "    total = sum(item_prices)\n",
    "    if discount: \n",
    "        total = total - total * discount_rate\n",
    "    return total"
   ]
  },
  {
   "cell_type": "code",
   "execution_count": 107,
   "id": "0f558d32",
   "metadata": {},
   "outputs": [
    {
     "data": {
      "text/plain": [
       "100"
      ]
     },
     "execution_count": 107,
     "metadata": {},
     "output_type": "execute_result"
    }
   ],
   "source": [
    "item_prices = [10, 20, 70]\n",
    "calculate_total(item_prices)"
   ]
  },
  {
   "cell_type": "markdown",
   "id": "36b16878",
   "metadata": {},
   "source": [
    "**9.1 Aufgabe:** \n",
    "- Rufen Sie die Funktion `calculate_total()` so auf, dass ein Rabatt gewährt wird.\n",
    "- Als nächstes verändern Sie den Rabatt so, dass 30% Rabatt gewährt werden. "
   ]
  },
  {
   "cell_type": "code",
   "execution_count": 195,
   "id": "19b92d19",
   "metadata": {},
   "outputs": [],
   "source": [
    "# Ihre Lösung: \n"
   ]
  },
  {
   "cell_type": "markdown",
   "id": "6cf793be",
   "metadata": {},
   "source": [
    "**9.2 Aufgabe:** \n",
    "\n",
    "- Schreiben Sie eine eigene Funktion, die überprüft, ob ein Wort `w` in einer Liste von Tokens `tokens` enthalten ist. \n",
    "\n",
    "- Das Wort ebenso wie die Token-Liste werden der Funktion als Parameter übergeben. \n",
    "\n",
    "- Die Funktion soll als Rückgabewert True geben, wenn das Wort in der Token-Liste enthalten ist, sonst False. \n",
    "\n",
    "- Zudem soll die Funktion eine entsprechende `print()`-Ausgabe liefern, wenn der Parameter `print_result` `True` ist.\n",
    "\n",
    "- Der Default-Wert des Parameters `print_result` soll `False` sein. \n",
    "\n",
    "- Denken Sie daran, einen Docstring hinzuzufügen. \n",
    "\n",
    "- Rufen Sie die Funktion mit Beispielwerten auf. \n",
    "\n"
   ]
  },
  {
   "cell_type": "markdown",
   "id": "62e6b8a8",
   "metadata": {},
   "source": [
    "## 10. Klassen\n",
    "`Python` ermöglicht auch die Arbeit mit Klassen. \n",
    "\n",
    "Für unseren Kurs benötigen wir dies erstmal nicht, bei Bedarf schauen wir uns das zu einem späteren Zeitpunkt an. \n",
    "\n",
    "Hier ein kleines Beispiel:"
   ]
  },
  {
   "cell_type": "code",
   "execution_count": 90,
   "id": "7f1dc44f",
   "metadata": {},
   "outputs": [
    {
     "name": "stdout",
     "output_type": "stream",
     "text": [
      "Hello my name is Ada\n"
     ]
    }
   ],
   "source": [
    "class Person:\n",
    "  def __init__(self, name, age):\n",
    "    self.name = name\n",
    "    self.age = age\n",
    "\n",
    "  def print_name(self):\n",
    "    print(\"Hello my name is \" + self.name)\n",
    "\n",
    "p1 = Person(\"Ada\", 36)\n",
    "p1.print_name()"
   ]
  },
  {
   "cell_type": "markdown",
   "id": "71a5e28b",
   "metadata": {},
   "source": [
    "## 11. Arbeiten mit Listen"
   ]
  },
  {
   "cell_type": "markdown",
   "id": "326e8ffa",
   "metadata": {},
   "source": [
    "### Listen\n",
    "\n",
    "Mit Hilfe von Listen können wir mehrere Items innerhalb einer Variable speichern. \n",
    "\n",
    "Listen sind geordnet (d.h. die enthaltenen Elemente haben eine bestimmte Reihenfolge). \n",
    "\n",
    "Listen sind veränderbar und es können Duplikate darin vorkommen.  \n",
    "\n",
    "Listen können Elemente verschiedener Datentypen beinhalten. "
   ]
  },
  {
   "cell_type": "markdown",
   "id": "516c6017",
   "metadata": {},
   "source": [
    "### Indexing\n"
   ]
  },
  {
   "cell_type": "code",
   "execution_count": 113,
   "id": "d037f422",
   "metadata": {},
   "outputs": [],
   "source": [
    "colors = ['red', 'yellow', 'blue']\n",
    "\n",
    "# Mit Hilfe von [index] können wir auf bestimmte Elemente einer Liste zugreifen. \n",
    "# z.B. colors[1]"
   ]
  },
  {
   "cell_type": "markdown",
   "id": "1f33bfb4",
   "metadata": {},
   "source": [
    "**11.1 Aufgabe:** Lassen sie sich das Element am Index 1 und am Index -1 der Liste `colors` ausgeben. Was passiert? "
   ]
  },
  {
   "cell_type": "code",
   "execution_count": 196,
   "id": "8ef9f915",
   "metadata": {},
   "outputs": [],
   "source": [
    "# Ihre Lösung: "
   ]
  },
  {
   "cell_type": "markdown",
   "id": "4b09e0b9",
   "metadata": {},
   "source": [
    "**Antwort:** "
   ]
  },
  {
   "cell_type": "markdown",
   "id": "8d826493",
   "metadata": {},
   "source": [
    "### Index-Slicing\n",
    "Index-Bereiche können mit `[start:stop:step]` Syntax aufgerufen werden. Dabei müssen nicht immer alle Werte definiert werden. \n",
    "\n",
    "**11.2 Aufgabe:** Beschreiben Sie mit eigenen Worten, was in den folgenden Zeilen passiert, *bevor* Sie sie ausführen. "
   ]
  },
  {
   "cell_type": "code",
   "execution_count": null,
   "id": "81dade43",
   "metadata": {},
   "outputs": [],
   "source": [
    "colors[:3]"
   ]
  },
  {
   "cell_type": "markdown",
   "id": "d0d8a5f5",
   "metadata": {},
   "source": [
    "**Antwort:**"
   ]
  },
  {
   "cell_type": "code",
   "execution_count": null,
   "id": "744ea978",
   "metadata": {},
   "outputs": [],
   "source": [
    "colors[1:3:2]"
   ]
  },
  {
   "cell_type": "markdown",
   "id": "3883d60a",
   "metadata": {},
   "source": [
    "**Antwort:**"
   ]
  },
  {
   "cell_type": "code",
   "execution_count": null,
   "id": "923ea881",
   "metadata": {},
   "outputs": [],
   "source": [
    "colors[3]"
   ]
  },
  {
   "cell_type": "markdown",
   "id": "94dc5212",
   "metadata": {},
   "source": [
    "**Antwort:**"
   ]
  },
  {
   "cell_type": "code",
   "execution_count": null,
   "id": "5b1fd610",
   "metadata": {},
   "outputs": [],
   "source": [
    "colors[::-1]"
   ]
  },
  {
   "cell_type": "markdown",
   "id": "4a834d26",
   "metadata": {},
   "source": [
    "**Antwort:**"
   ]
  },
  {
   "cell_type": "markdown",
   "id": "5e6bb9e1",
   "metadata": {},
   "source": [
    "#### Elemente zu einer Liste hinzufügen mit `insert()`, `append()`"
   ]
  },
  {
   "cell_type": "code",
   "execution_count": 151,
   "id": "4fc9f591",
   "metadata": {},
   "outputs": [
    {
     "name": "stdout",
     "output_type": "stream",
     "text": [
      "['apricot', 'red', 'blue', 'yellow']\n"
     ]
    }
   ],
   "source": [
    "colors = ['red', 'blue', 'yellow']\n",
    "colors.insert(0, 'apricot') # 0 = Index, an dem das neue Element hinzugefügt werden soll\n",
    "print(colors)"
   ]
  },
  {
   "cell_type": "code",
   "execution_count": 152,
   "id": "07197eb1",
   "metadata": {},
   "outputs": [
    {
     "name": "stdout",
     "output_type": "stream",
     "text": [
      "['red', 'blue', 'yellow', 'apricot']\n"
     ]
    }
   ],
   "source": [
    "colors = ['red', 'blue', 'yellow']\n",
    "colors.append('apricot')\n",
    "print(colors)"
   ]
  },
  {
   "cell_type": "markdown",
   "id": "38f0bb92",
   "metadata": {},
   "source": [
    "### Listen joinen"
   ]
  },
  {
   "cell_type": "code",
   "execution_count": 157,
   "id": "aa56b93f",
   "metadata": {},
   "outputs": [
    {
     "data": {
      "text/plain": [
       "[4, 1, 5, 4, 2, 3]"
      ]
     },
     "execution_count": 157,
     "metadata": {},
     "output_type": "execute_result"
    }
   ],
   "source": [
    "numbers = [4, 1, 5]\n",
    "numbers2 = [4, 2, 3]\n",
    "numbers + numbers2"
   ]
  },
  {
   "cell_type": "markdown",
   "id": "a73272ce",
   "metadata": {},
   "source": [
    "### Listen sortieren"
   ]
  },
  {
   "cell_type": "code",
   "execution_count": 159,
   "id": "07195d47",
   "metadata": {},
   "outputs": [
    {
     "data": {
      "text/plain": [
       "[1, 2, 3, 4, 4, 5]"
      ]
     },
     "execution_count": 159,
     "metadata": {},
     "output_type": "execute_result"
    }
   ],
   "source": [
    "sorted(numbers + numbers2)"
   ]
  },
  {
   "cell_type": "markdown",
   "id": "6d2ff2e2",
   "metadata": {},
   "source": [
    "## 12. Arbeiten mit Dictionaries\n",
    "\n",
    "In Dictionaries können wir key-value Paare speichern. \n",
    "\n",
    "Dictionaries sind ebenso wie Listen geordnetund veränderbar. \n",
    "\n",
    "Aber anders als Listen erlauben Dictionaries keine Duplikate - die `keys` eines Dictionaries können also nicht doppelt vorkommen. "
   ]
  },
  {
   "cell_type": "code",
   "execution_count": 161,
   "id": "302d5f86",
   "metadata": {},
   "outputs": [],
   "source": [
    "post = {\n",
    "    'post_id': 123456,\n",
    "    'creator': 'user95',\n",
    "    'text': 'Having such a great time here in Italy!',\n",
    "    'likes': 30\n",
    "}"
   ]
  },
  {
   "cell_type": "markdown",
   "id": "fa5d97ff",
   "metadata": {},
   "source": [
    "#### Zugriff auf keys, values, items"
   ]
  },
  {
   "cell_type": "code",
   "execution_count": 166,
   "id": "78693e11",
   "metadata": {},
   "outputs": [
    {
     "data": {
      "text/plain": [
       "dict_keys(['post_id', 'creator', 'text', 'likes', 'toxicity_score'])"
      ]
     },
     "execution_count": 166,
     "metadata": {},
     "output_type": "execute_result"
    }
   ],
   "source": [
    "post.keys()"
   ]
  },
  {
   "cell_type": "code",
   "execution_count": 167,
   "id": "52f797f8",
   "metadata": {},
   "outputs": [
    {
     "data": {
      "text/plain": [
       "dict_values([123456, 'user95', 'Having such a great time here in Italy!', 30, 0.3])"
      ]
     },
     "execution_count": 167,
     "metadata": {},
     "output_type": "execute_result"
    }
   ],
   "source": [
    "post.values()"
   ]
  },
  {
   "cell_type": "code",
   "execution_count": 168,
   "id": "c795d64c",
   "metadata": {},
   "outputs": [
    {
     "data": {
      "text/plain": [
       "dict_items([('post_id', 123456), ('creator', 'user95'), ('text', 'Having such a great time here in Italy!'), ('likes', 30), ('toxicity_score', 0.3)])"
      ]
     },
     "execution_count": 168,
     "metadata": {},
     "output_type": "execute_result"
    }
   ],
   "source": [
    "post.items()"
   ]
  },
  {
   "cell_type": "markdown",
   "id": "ad47015e",
   "metadata": {},
   "source": [
    "#### Zugriff auf einzelne Einträge"
   ]
  },
  {
   "cell_type": "code",
   "execution_count": 162,
   "id": "3d40fc49",
   "metadata": {},
   "outputs": [
    {
     "data": {
      "text/plain": [
       "'user95'"
      ]
     },
     "execution_count": 162,
     "metadata": {},
     "output_type": "execute_result"
    }
   ],
   "source": [
    "post['creator']"
   ]
  },
  {
   "cell_type": "markdown",
   "id": "4a8feb53",
   "metadata": {},
   "source": [
    "#### Hinzufügen neuer Werte"
   ]
  },
  {
   "cell_type": "code",
   "execution_count": null,
   "id": "ae69fa9b",
   "metadata": {},
   "outputs": [],
   "source": [
    "post['toxicity_score'] =  0.3"
   ]
  },
  {
   "cell_type": "markdown",
   "id": "6536804d",
   "metadata": {},
   "source": [
    "## 13. Coding Style\n",
    "\n",
    "Für Python hat sich PEP8 als Style-Guide entwickelt. Dieser beinhaltet u.a. die folgenden Best Practices - diese haben keinen Einfluss auf die Funktionalität des Codes, aber Sie verbessern damit die Lesbarkeit Ihres Codes, für sich selbst und für andere: \n",
    "\n",
    "- Nutzen Sie 4-Leerzeichen zur Einrückung, nicht den Tabulator. \n",
    "- Code-Zeilen sollten nicht länger als 79 Zeichen sein (die meisten IDEs zeigen es an, wenn eine Zeile zu lang ist.)\n",
    "- Nutzen Sie Leerzeichen, um Funktionen, Klassen und größere Code-Blöcke innerhalb von Funktionen abzusetzen.\n",
    "- Wenn möglich, sollten Kommentare in einer eigenen Zeile stehen. \n",
    "- Verwenden Sie Docstrings.\n",
    "- Verwenden Sie Leerzeichen rund um Operatoren und nach Kommata, aber nicht direkt nach einer Klammer:  `a = f(1, 2) + g(3, 4)`\n",
    "- Benennen Sie Klassen und Funktionen einheitlich; üblich sind UpperCamelCase für Klassen und lowercase_with_underscores for für Funktionen."
   ]
  },
  {
   "cell_type": "markdown",
   "id": "3972196d",
   "metadata": {},
   "source": [
    "## 14. Arbeiten mit Strings"
   ]
  },
  {
   "cell_type": "markdown",
   "id": "ea9faa0e",
   "metadata": {},
   "source": [
    "Ein String ist eine Folge von Zeichen, die in Anführungszeichen geschrieben wird.  \n",
    "Sie können sowohl einfache (`'...'`) als auch doppelte (`\"...\"`) Anführungszeichen verwenden – beides ist gültig.\n",
    "\n",
    "Strings sind unveränderlich (*immutable*), das heißt:  \n",
    "Man kann einzelne Zeichen nicht direkt ändern, sondern muss einen neuen String erstellen."
   ]
  },
  {
   "cell_type": "markdown",
   "id": "cf11332b",
   "metadata": {},
   "source": [
    "### Indexing und Slicing\n",
    "\n",
    "Strings verhalten sich wie Listen – jedes Zeichen hat einen Index, beginnend bei `0`.\n",
    "\n",
    "Mit Indexing greift man du auf einzelne Zeichen zu,  mit Slicing kannst man Teilstrings ausschneiden.\n"
   ]
  },
  {
   "cell_type": "code",
   "execution_count": 202,
   "id": "fa416448",
   "metadata": {},
   "outputs": [
    {
     "name": "stdout",
     "output_type": "stream",
     "text": [
      "P\n",
      "n\n",
      "Pyt\n",
      "thon\n"
     ]
    }
   ],
   "source": [
    "word = \"Python\"\n",
    "\n",
    "print(word[0])    # erstes Zeichen\n",
    "print(word[-1])   # letztes Zeichen\n",
    "print(word[0:3])  # Zeichen von Index 0 bis (aber ohne) 3\n",
    "print(word[2:])   # ab Index 2 bis zum Ende"
   ]
  },
  {
   "cell_type": "markdown",
   "id": "c826f414",
   "metadata": {},
   "source": [
    "**14.1 Aufgabe:**\n",
    "\n",
    "Verwenden Sie den gegebenen Satz, um folgende Teilaufgaben zu lösen:\n",
    "\n",
    "- Geben Sie die ersten 4 Zeichen aus.  \n",
    "- Geben Sie die letzten 2 Zeichen aus.  \n",
    "- Geben Sie den String rückwärts aus.  \n",
    "\n",
    "Satz: `\"Maschinensprache oder Menschensprache, das ist hier die Frage!\"`"
   ]
  },
  {
   "cell_type": "code",
   "execution_count": 222,
   "id": "2646566c",
   "metadata": {},
   "outputs": [],
   "source": [
    "# Ihre Lösung: "
   ]
  },
  {
   "cell_type": "markdown",
   "id": "b3246ae7",
   "metadata": {},
   "source": [
    "**14.2 Aufgabe**: \n",
    "\n",
    "Ein Palindrom ist ein Wort, das vorwärts und rückwärts gleich ist, z. B. *Anna* oder *Rentner*.\n",
    "\n",
    "Schreiben Sie eine Funktion, die überprüft, ob ein eingegebenes Wort ein Palindrom ist."
   ]
  },
  {
   "cell_type": "code",
   "execution_count": 221,
   "id": "2f3f0922",
   "metadata": {},
   "outputs": [],
   "source": [
    "# Ihre Lösung: "
   ]
  },
  {
   "cell_type": "markdown",
   "id": "28a58465",
   "metadata": {},
   "source": [
    "### Wichtige String-Methoden\n",
    "\n",
    "Python bietet viele eingebaute Methoden, um Strings zu verändern oder zu analysieren.  \n",
    "Hier sind einige der wichtigsten:"
   ]
  },
  {
   "cell_type": "code",
   "execution_count": 198,
   "id": "8270e340",
   "metadata": {},
   "outputs": [
    {
     "name": "stdout",
     "output_type": "stream",
     "text": [
      "   PYTHON MAKES DATA ANALYSIS EASY  \n",
      "   python makes data analysis easy  \n",
      "   Python Makes Data Analysis Easy  \n",
      "   python makes data analysis easy  \n",
      "4\n",
      "python makes DATA analysis easy\n"
     ]
    }
   ],
   "source": [
    "text = \"   python makes DATA analysis easy  \"\n",
    "\n",
    "print(text.upper())          # alles in Großbuchstaben\n",
    "print(text.lower())          # alles in Kleinbuchstaben\n",
    "print(text.title())          # jedes Wort beginnt mit Großbuchstaben\n",
    "print(text.replace(\"DATA\", \"data\"))  # ersetzt ein Wort\n",
    "print(text.count(\"a\"))       # zählt, wie oft 'a' vorkommt\n",
    "print(text.strip())          # entfernt Leerzeichen am Anfang/Ende\n"
   ]
  },
  {
   "cell_type": "markdown",
   "id": "f1282a10",
   "metadata": {},
   "source": [
    "### Strings verbinden und wiederholen\n",
    "\n",
    "Strings können mit `+` verbunden oder mit `*` wiederholt werden."
   ]
  },
  {
   "cell_type": "code",
   "execution_count": 199,
   "id": "3ead8183",
   "metadata": {},
   "outputs": [
    {
     "name": "stdout",
     "output_type": "stream",
     "text": [
      "Hallo, Zeynep!\n",
      "Hi! Hi! Hi! \n"
     ]
    }
   ],
   "source": [
    "name = \"Zeynep\"\n",
    "print(\"Hallo, \" + name + \"!\")\n",
    "print(\"Hi! \" * 3)\n"
   ]
  },
  {
   "cell_type": "markdown",
   "id": "be0361c3",
   "metadata": {},
   "source": [
    "### Strings bereinigen und verarbeiten\n",
    "\n",
    "Texte enthalten oft unnötige Leerzeichen oder Sonderzeichen.  \n",
    "\n",
    "Mit Methoden wie `strip()`, `split()` und `join()` kann man sie bereinigen oder aufteilen."
   ]
  },
  {
   "cell_type": "code",
   "execution_count": null,
   "id": "77cf331d",
   "metadata": {},
   "outputs": [
    {
     "name": "stdout",
     "output_type": "stream",
     "text": [
      "Data Science\n",
      "Python\n",
      "Data Science\n"
     ]
    }
   ],
   "source": [
    "raw_text = \"   ...Data Science...   \"\n",
    "\n",
    "cleaned_text = raw_text.strip(\" .\")\n",
    "print(cleaned_text)\n",
    "\n",
    "words = cleaned_text.split()\n",
    "print(words)\n",
    "\n",
    "sentence = \" \".join(words)\n",
    "print(sentence)"
   ]
  },
  {
   "cell_type": "markdown",
   "id": "8a6f57bb",
   "metadata": {},
   "source": [
    "**14.2 Aufgabe:** \n",
    "Der folgende Text enthält viele unnötige Zeichen.  \n",
    "\n",
    "Bereinigen Sie ihn mit Hilfe von String-Methoden.\n",
    "\n",
    "- Entfernen Sie überflüssige Kommas und Leerzeichen.  \n",
    "- Alle Wörter sollen kleingeschrieben sein. \n",
    "- Teilen Sie den bereinigten Text in Wörter auf.  \n",
    "- Fügen Sie die Wörter wieder zu einem sauberen Satz zusammen."
   ]
  },
  {
   "cell_type": "code",
   "execution_count": 220,
   "id": "8d0f3c11",
   "metadata": {},
   "outputs": [],
   "source": [
    "text = \"  ,,,Data,Science,,ist,toll!!!   \"\n",
    "\n",
    "# Ihre Lösung: "
   ]
  },
  {
   "cell_type": "markdown",
   "id": "154dab10",
   "metadata": {},
   "source": [
    "### Überprüfen von Teilstrings\n",
    "\n",
    "Mit den Operatoren `in` und `not in` lässt sich prüfen,  ob ein bestimmter Teilstring in einem anderen String vorkommt."
   ]
  },
  {
   "cell_type": "code",
   "execution_count": 201,
   "id": "7ab35b66",
   "metadata": {},
   "outputs": [
    {
     "name": "stdout",
     "output_type": "stream",
     "text": [
      "True\n",
      "True\n"
     ]
    }
   ],
   "source": [
    "text = \"Python Programmierung\"\n",
    "\n",
    "print(\"Python\" in text)       # True\n",
    "print(\"Java\" not in text)     # True"
   ]
  },
  {
   "cell_type": "markdown",
   "id": "3cef6c7b",
   "metadata": {},
   "source": [
    "## 15. Daten einlesen und bearbeiten mit `pandas`"
   ]
  },
  {
   "cell_type": "code",
   "execution_count": null,
   "id": "4f2f742b",
   "metadata": {},
   "outputs": [],
   "source": [
    "# Alternativ zur oben beschriebenen Installation von pandas über das Terminal \n",
    "%pip install pandas"
   ]
  },
  {
   "cell_type": "code",
   "execution_count": 228,
   "id": "eccdf15f",
   "metadata": {},
   "outputs": [],
   "source": [
    "# pandas importieren, um es nutzen zu können\n",
    "import pandas as pd "
   ]
  },
  {
   "cell_type": "code",
   "execution_count": 252,
   "id": "50827f84",
   "metadata": {},
   "outputs": [],
   "source": [
    "# Funktion, um Text zu bereinigen und zu tokenisieren\n",
    "def clean_and_tokenize(text): \n",
    "    cleaned_text = text.replace('?', ' ').strip()\n",
    "    cleaned_text = cleaned_text.lower().split()\n",
    "    return cleaned_text"
   ]
  },
  {
   "cell_type": "code",
   "execution_count": 264,
   "id": "c24c3161",
   "metadata": {},
   "outputs": [
    {
     "data": {
      "text/html": [
       "<div>\n",
       "<style scoped>\n",
       "    .dataframe tbody tr th:only-of-type {\n",
       "        vertical-align: middle;\n",
       "    }\n",
       "\n",
       "    .dataframe tbody tr th {\n",
       "        vertical-align: top;\n",
       "    }\n",
       "\n",
       "    .dataframe thead th {\n",
       "        text-align: right;\n",
       "    }\n",
       "</style>\n",
       "<table border=\"1\" class=\"dataframe\">\n",
       "  <thead>\n",
       "    <tr style=\"text-align: right;\">\n",
       "      <th></th>\n",
       "      <th>id</th>\n",
       "      <th>question</th>\n",
       "      <th>tokens</th>\n",
       "    </tr>\n",
       "  </thead>\n",
       "  <tbody>\n",
       "    <tr>\n",
       "      <th>0</th>\n",
       "      <td>1</td>\n",
       "      <td>Wie kann ich mein Passwort zurücksetzen?</td>\n",
       "      <td>[wie, kann, ich, mein, passwort, zurücksetzen]</td>\n",
       "    </tr>\n",
       "    <tr>\n",
       "      <th>1</th>\n",
       "      <td>2</td>\n",
       "      <td>Wo finde ich meine Bestellhistorie?</td>\n",
       "      <td>[wo, finde, ich, meine, bestellhistorie]</td>\n",
       "    </tr>\n",
       "    <tr>\n",
       "      <th>2</th>\n",
       "      <td>3</td>\n",
       "      <td>Wie kann ich meine Lieferadresse ändern?</td>\n",
       "      <td>[wie, kann, ich, meine, lieferadresse, ändern]</td>\n",
       "    </tr>\n",
       "    <tr>\n",
       "      <th>3</th>\n",
       "      <td>4</td>\n",
       "      <td>Wie kontaktiere ich den Kundendienst?</td>\n",
       "      <td>[wie, kontaktiere, ich, den, kundendienst]</td>\n",
       "    </tr>\n",
       "    <tr>\n",
       "      <th>4</th>\n",
       "      <td>5</td>\n",
       "      <td>Welche Zahlungsmethoden werden akzeptiert?</td>\n",
       "      <td>[welche, zahlungsmethoden, werden, akzeptiert]</td>\n",
       "    </tr>\n",
       "  </tbody>\n",
       "</table>\n",
       "</div>"
      ],
      "text/plain": [
       "   id                                    question  \\\n",
       "0   1    Wie kann ich mein Passwort zurücksetzen?   \n",
       "1   2         Wo finde ich meine Bestellhistorie?   \n",
       "2   3    Wie kann ich meine Lieferadresse ändern?   \n",
       "3   4       Wie kontaktiere ich den Kundendienst?   \n",
       "4   5  Welche Zahlungsmethoden werden akzeptiert?   \n",
       "\n",
       "                                           tokens  \n",
       "0  [wie, kann, ich, mein, passwort, zurücksetzen]  \n",
       "1        [wo, finde, ich, meine, bestellhistorie]  \n",
       "2  [wie, kann, ich, meine, lieferadresse, ändern]  \n",
       "3      [wie, kontaktiere, ich, den, kundendienst]  \n",
       "4  [welche, zahlungsmethoden, werden, akzeptiert]  "
      ]
     },
     "execution_count": 264,
     "metadata": {},
     "output_type": "execute_result"
    }
   ],
   "source": [
    "# Beispieldaten erzeugen\n",
    "faq_data = {\n",
    "    'id': [1,2,3,4,5,6,7,8],\n",
    "    'question': [\n",
    "        'Wie kann ich mein Passwort zurücksetzen?',\n",
    "        'Wo finde ich meine Bestellhistorie?',\n",
    "        'Wie kann ich meine Lieferadresse ändern?',\n",
    "        'Wie kontaktiere ich den Kundendienst?',\n",
    "        'Welche Zahlungsmethoden werden akzeptiert?',\n",
    "        'Wie kann ich meine Bestellung stornieren?',\n",
    "        'Wie lange dauert der Versand?',\n",
    "        'Kann ich Artikel nach der Bestellung noch ändern?'\n",
    "    ]\n",
    "}\n",
    "# Dataframe aus Daten erzeugen\n",
    "df = pd.DataFrame(faq_data)\n",
    "\n",
    "# Neue Spalte 'tokens' erzeugen\n",
    "# Text aus der Spalte 'question' bereinigen und tokenisieren\n",
    "# Der gecleante Text \n",
    "df['tokens'] = df['question'].apply(clean_and_tokenize)\n",
    "\n",
    "# Die ersten fünf rows des DataFrames anzeigen\n",
    "df.head()"
   ]
  },
  {
   "cell_type": "code",
   "execution_count": 265,
   "id": "895d6785",
   "metadata": {},
   "outputs": [],
   "source": [
    "# Dataframe als CSV speichern\n",
    "# Erzeugen Sie vorher einen Ordner `data/` auf der obersten Ebene Ihres Repositories\n",
    "df.to_csv('../data/faq_cleaned.csv', index=False)"
   ]
  },
  {
   "cell_type": "code",
   "execution_count": 270,
   "id": "da32dfaa",
   "metadata": {},
   "outputs": [],
   "source": [
    "# Daten wieder einlesen\n",
    "import ast\n",
    "\n",
    "df = pd.read_csv('../data/faq_cleaned.csv')\n",
    "\n",
    "# Stellt korrektes Einlesen der Spalte als Liste von Strings sicher\n",
    "df['tokens'] = df['tokens'].apply(ast.literal_eval)"
   ]
  },
  {
   "cell_type": "markdown",
   "id": "3985908b",
   "metadata": {},
   "source": [
    "**15.1 Aufgabe:**\n",
    "- Fügen Sie dem DataFrame eine neue Spalte `token_count` hinzu, in der Sie die Anzahl an Tokens speichern. \n",
    "- Fügen Sie eine weitere Spalte `tokens_sorted` hinzu, die die sortierten Tokens beinhaltet. \n"
   ]
  },
  {
   "cell_type": "markdown",
   "id": "19fe2651",
   "metadata": {},
   "source": [
    "## Weiterführende Ressourcen"
   ]
  },
  {
   "cell_type": "markdown",
   "id": "39e8ed2b",
   "metadata": {},
   "source": [
    "* http://www.python.org - Offizielle Python Webseite. \n",
    "* http://www.python.org/dev/peps/pep-0008 - PEP8 Pythonn Styleguide. \n",
    "* http://www.greenteapress.com/thinkpython/ - Frei zugängliche Python Einführung. \n",
    "* https://www.w3schools.com/python/default.asp - W3 School Python Tutorial. "
   ]
  }
 ],
 "metadata": {
  "kernelspec": {
   "display_name": ".venv",
   "language": "python",
   "name": "python3"
  },
  "language_info": {
   "codemirror_mode": {
    "name": "ipython",
    "version": 3
   },
   "file_extension": ".py",
   "mimetype": "text/x-python",
   "name": "python",
   "nbconvert_exporter": "python",
   "pygments_lexer": "ipython3",
   "version": "3.8.10"
  }
 },
 "nbformat": 4,
 "nbformat_minor": 5
}
